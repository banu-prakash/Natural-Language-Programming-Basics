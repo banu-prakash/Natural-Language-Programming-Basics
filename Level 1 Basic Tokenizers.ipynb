{
 "cells": [
  {
   "cell_type": "markdown",
   "metadata": {},
   "source": [
    "## UK Government Content Writing Criteria\n",
    "\n",
    "UK Government has a certain checklist for the content writers. They want the content writers to be more specific in the details they want to convey to the users. UK Government basically believes that when you write more people understand less. So they came up with a simple solution.\n",
    "\n",
    "1. There can be no more than 15 Sentences.\n",
    "2. And each sentence should have less than 15 words.\n",
    "3. And each word should be less than 15 letters.\n",
    "\n",
    "Help the UK Government writing a detector which checks for the above criteria. \n",
    "\n",
    "Write three seperate detectors so that the content writer knows where exactly did he make the mistake"
   ]
  },
  {
   "cell_type": "markdown",
   "metadata": {},
   "source": [
    "So here is Mr. James Wilson who wrote about Elon Musk. Here is the following content.\n",
    "\n",
    "~~~~ \n",
    "Musk was born on June 28, 1971, in Pretoria, Gauteng, South Africa,[27] the son of Maye Musk (née Haldeman), a model and dietician from Regina, Saskatchewan, Canada;[28] and Errol Musk, a South African electromechanical engineer, pilot and sailor. He has a younger brother, Kimbal (born 1972), and a younger sister, Tosca (born 1974).[28][29][30][31] His paternal grandmother was British, and he also has Pennsylvania Dutch ancestry,[32][33] and his maternal grandfather was American, from Minnesota.[34] After his parents divorced in 1980, Musk lived mostly with his father in the suburbs of Pretoria.[32]\n",
    "\n",
    "During his childhood he had an interest in reading and often did so for hours at a time.[35]\n",
    "\n",
    "At What age did Musk got interested in computing? At age 10, he developed an interest in computing with the Commodore VIC-20.[36] He taught himself computer programming at the age of 12, sold the code for a BASIC-based video game he created called Blastar, to a magazine called PC and Office Technology, for approximately $500. [37][38] A web version of the game is available online.[37][39]\n",
    "\n",
    "Musk was severely bullied throughout his childhood, and was once hospitalized when a group of boys threw him down a flight of stairs and then beat him until he lost consciousness.[40]\n",
    "\n",
    "Musk was initially educated at private schools, attending the English-speaking Waterkloof House Preparatory School. \n",
    "\n",
    "Mr. Singh helped Musk during his initial days when he was severely bullied during his childhood.\n",
    "\n",
    "Musk later graduated from Pretoria Boys High School and moved to Canada in June 1989, just before his 18th birthday,[41] after obtaining Canadian citizenship through his Canadian-born mother.[42][43] Although at the time Musk had to register to become a Canadian citizen, Bill C-37, which came into law in April of 2009, effectively made his Canadian citizenship retroactive to his birth since he was born in the first generation abroad to a Canadian-born mother. Therefore, with the law change, he is considered to have always been a Canadian citizen by birth.\n",
    "~~~~\n"
   ]
  },
  {
   "cell_type": "code",
   "execution_count": 152,
   "metadata": {
    "collapsed": true
   },
   "outputs": [],
   "source": [
    "sample_data = '''Musk was born on June 28, 1971, in Pretoria, Gauteng, South Africa,[27] the son of Maye Musk (née Haldeman), a model and dietician from Regina, Saskatchewan, Canada;[28] and Errol Musk, a South African electromechanical engineer, pilot and sailor. He has a younger brother, Kimbal (born 1972), and a younger sister, Tosca (born 1974).[28][29][30][31] His paternal grandmother was British, and he also has Pennsylvania Dutch ancestry,[32][33] and his maternal grandfather was American, from Minnesota.[34] After his parents divorced in 1980, Musk lived mostly with his father in the suburbs of Pretoria.[32]During his childhood he had an interest in reading and often did so for hours at a time.[35]\n",
    "\n",
    "At What age did Musk got interested in computing? At age 10, he developed an interest in computing with the Commodore VIC-20.[36] He taught himself computer programming at the age of 12, sold the code for a BASIC-based video game he created called Blastar, to a magazine called PC and Office Technology, for approximately $500. [37][38] A web version of the game is available online.[37][39]\n",
    "\n",
    "Musk was severely bullied throughout his childhood, and was once hospitalized when a group of boys threw him down a flight of stairs and then beat him until he lost consciousness.[40]\n",
    "\n",
    "Musk was initially educated at private schools, attending the English-speaking Waterkloof House Preparatory School. \n",
    "\n",
    "Mr. Singh helped Musk during his initial days when he was severely bullied during his childhood.\n",
    "\n",
    "Musk later graduated from Pretoria Boys High School and moved to Canada in June 1989, just before his 18th birthday,[41] after obtaining Canadian citizenship through his Canadian-born mother.[42][43] Although at the time Musk had to register to become a Canadian citizen, Bill C-37, which came into law in April of 2009, effectively made his Canadian citizenship retroactive to his birth since he was born in the first generation abroad to a Canadian-born mother. Therefore, with the law change, he is considered to have always been a Canadian citizen by birth.'''"
   ]
  },
  {
   "cell_type": "markdown",
   "metadata": {},
   "source": [
    "### Importing Packages"
   ]
  },
  {
   "cell_type": "code",
   "execution_count": 190,
   "metadata": {
    "collapsed": true
   },
   "outputs": [],
   "source": [
    "from nltk.tokenize import word_tokenize, sent_tokenize, PunktSentenceTokenizer, RegexpTokenizer"
   ]
  },
  {
   "cell_type": "markdown",
   "metadata": {},
   "source": [
    "### Functions"
   ]
  },
  {
   "cell_type": "code",
   "execution_count": 192,
   "metadata": {
    "collapsed": true
   },
   "outputs": [],
   "source": [
    "# Function to detect first criteria\n",
    "\n",
    "def count_sentences(data):\n",
    "    sentences = sent_tokenize(sample_data)\n",
    "    return(len(sentences))"
   ]
  },
  {
   "cell_type": "code",
   "execution_count": 193,
   "metadata": {
    "collapsed": true
   },
   "outputs": [],
   "source": [
    "# Function to detect second criteria\n",
    "\n",
    "def count_words(line):\n",
    "    pattern = RegexpTokenizer(r'[^\\n\\[\\d{1,2}\\]]\\w+')\n",
    "    words = pattern.tokenize(line)\n",
    "    return(len(words))"
   ]
  },
  {
   "cell_type": "code",
   "execution_count": 194,
   "metadata": {
    "collapsed": true
   },
   "outputs": [],
   "source": [
    "# Function to detect third criteria\n",
    "\n",
    "def count_char(word):\n",
    "    return(len(word))"
   ]
  },
  {
   "cell_type": "markdown",
   "metadata": {},
   "source": [
    "### Calling Functions"
   ]
  },
  {
   "cell_type": "code",
   "execution_count": 135,
   "metadata": {},
   "outputs": [
    {
     "name": "stdout",
     "output_type": "stream",
     "text": [
      "Total sentences in the article =  15\n"
     ]
    }
   ],
   "source": [
    "# Use the function created earlier to detect the first criteria\n",
    "\n",
    "print(\"Total sentences in the article = \", count_sentences(sample_data))"
   ]
  },
  {
   "cell_type": "code",
   "execution_count": 151,
   "metadata": {},
   "outputs": [
    {
     "name": "stdout",
     "output_type": "stream",
     "text": [
      "Sentence no. 1 exceeds 15 words\n",
      "Sentence no. 3 exceeds 15 words\n",
      "Sentence no. 4 exceeds 15 words\n",
      "Sentence no. 5 exceeds 15 words\n",
      "Sentence no. 8 exceeds 15 words\n",
      "Sentence no. 10 exceeds 15 words\n",
      "Sentence no. 12 exceeds 15 words\n",
      "Sentence no. 13 exceeds 15 words\n",
      "Sentence no. 14 exceeds 15 words\n",
      "Sentence no. 15 exceeds 15 words\n"
     ]
    }
   ],
   "source": [
    "# Use the function created earlier to detect the second criteria\n",
    "i=1\n",
    "\n",
    "for line in sent_tokenize(sample_data):\n",
    "    if(count_words(line) > 15):\n",
    "        print(\"Sentence no.\", i, \"exceeds 15 words\")\n",
    "    i += 1 "
   ]
  },
  {
   "cell_type": "code",
   "execution_count": 146,
   "metadata": {},
   "outputs": [
    {
     "name": "stdout",
     "output_type": "stream",
     "text": [
      "\" electromechanical \" exceeds 15 characters\n",
      "\" English-speaking \" exceeds 15 characters\n"
     ]
    }
   ],
   "source": [
    "# Use the function created earlier to detect the third critera\n",
    "\n",
    "for line in sent_tokenize(sample_data):\n",
    "    for w in word_tokenize(line):\n",
    "        if(count_char(w) > 15):\n",
    "            print(\"\\\"\", w, \"\\\" exceeds 15 characters\")"
   ]
  },
  {
   "cell_type": "markdown",
   "metadata": {},
   "source": [
    "## Edited Article"
   ]
  },
  {
   "cell_type": "markdown",
   "metadata": {},
   "source": [
    "Mr. Wilson was not really satisfied with the write up. So he edited the few portions of the document and has resent the document for validation.\n",
    "\n",
    "~~~~ \n",
    "Musk was born on June 28, 1971, in Pretoria, Gauteng, South Africa,[27] the son of Maye Musk (née Haldeman), a model and dietician from Regina, Saskatchewan, Canada;[28] and Errol Musk, a South African electromechanical engineer, pilot and sailor. He has a younger brother, Kimbal (born 1972), and a younger sister, Tosca (born 1974).[28][29][30][31] His paternal grandmother was British, and he also has Pennsylvania Dutch ancestry,[32][33] and his maternal grandfather was American, from Minnesota.[34] After his parents divorced in 1980, Musk lived mostly with his father in the suburbs of Pretoria.[32]\n",
    "\n",
    "During his childhood he had an interest in reading and often did so for hours at a time.[35]\n",
    "\n",
    "At What age did Musk got interested in computing?At age 10, he developed an interest in computing with the Commodore VIC-20.[36] He taught himself computer programming at the age of 12, sold the code for a BASIC-based video game he created called Blastar, to a magazine called PC and Office Technology, for approximately $500. [37][38] A web version of the game is available online.[37][39]\n",
    "\n",
    "Musk was severely bullied throughout his childhood, and was once hospitalized when a group of boys threw him down a flight of stairs and then beat him until he lost consciousness.[40]\n",
    "\n",
    "Musk was initially educated at private schools, attending the English-speaking Waterkloof House Preparatory School. \n",
    "\n",
    "Mr. Sing helped Musk during his initial days when he was severely bullied during his childhood.\n",
    "\n",
    "Musk later graduated from Pretoria Boys High School and moved to Canada in June 1989, just before his 18th birthday,[41] after obtaining Canadian citizenship through his Canadian-born mother.[42][43] Although at the time Musk had to register to become a Canadian citizen, Bill C-37, which came into law in April of 2009, effectively made his Canadian citizenship retroactive to his birth since he was born in the first generation abroad to a Canadian-born mother. Therefore, with the law change, he is considered to have always been a Canadian citizen by birth.\n",
    "~~~~\n",
    "\n",
    "#### Detect the content sent by Mr. Wilson. ####\n",
    "\n",
    "#### Also spot the differences between the content posted now and the content posted earlier. ####\n",
    "\n"
   ]
  },
  {
   "cell_type": "code",
   "execution_count": 209,
   "metadata": {
    "collapsed": true
   },
   "outputs": [],
   "source": [
    "sample_data2 = \"\"\"Musk was born on June 28, 1971, in Pretoria, Gauteng, South Africa,[27] the son of Maye Musk (née Haldeman), a model and dietician from Regina, Saskatchewan, Canada;[28] and Errol Musk, a South African electromechanical engineer, pilot and sailor. He has a younger brother, Kimbal (born 1972), and a younger sister, Tosca (born 1974).[28][29][30][31] His paternal grandmother was British, and he also has Pennsylvania Dutch ancestry,[32][33] and his maternal grandfather was American, from Minnesota.[34] After his parents divorced in 1980, Musk lived mostly with his father in the suburbs of Pretoria.[32]\n",
    "\n",
    "During his childhood he had an interest in reading and often did so for hours at a time.[35]\n",
    "\n",
    "At What age did Musk got interested in computing?At age 10, he developed an interest in computing with the Commodore VIC-20.[36] He taught himself computer programming at the age of 12, sold the code for a BASIC-based video game he created called Blastar, to a magazine called PC and Office Technology, for approximately $500. [37][38] A web version of the game is available online.[37][39]\n",
    "\n",
    "Musk was severely bullied throughout his childhood, and was once hospitalized when a group of boys threw him down a flight of stairs and then beat him until he lost consciousness.[40]\n",
    "\n",
    "Musk was initially educated at private schools, attending the English-speaking Waterkloof House Preparatory School. \n",
    "\n",
    "Mr. Sing helped Musk during his initial days when he was severely bullied during his childhood.\n",
    "\n",
    "Musk later graduated from Pretoria Boys High School and moved to Canada in June 1989, just before his 18th birthday,[41] after obtaining Canadian citizenship through his Canadian-born mother.[42][43] Although at the time Musk had to register to become a Canadian citizen, Bill C-37, which came into law in April of 2009, effectively made his Canadian citizenship retroactive to his birth since he was born in the first generation abroad to a Canadian-born mother. Therefore, with the law change, he is considered to have always been a Canadian citizen by birth.\"\"\""
   ]
  },
  {
   "cell_type": "code",
   "execution_count": 210,
   "metadata": {
    "collapsed": true
   },
   "outputs": [],
   "source": [
    "train_data = \"\"\"Mr. Sing likes Apple. He likes mangoes. Mr. Hard likes apples too.\"\"\""
   ]
  },
  {
   "cell_type": "code",
   "execution_count": 215,
   "metadata": {},
   "outputs": [
    {
     "name": "stdout",
     "output_type": "stream",
     "text": [
      "0.08333333333333333 0.3333333333333333 0.0 12 3 1 1\n",
      "Total sentences in the article =  14\n"
     ]
    }
   ],
   "source": [
    "# Using training data to TRAIN PunktSentenceTokenizer and consider \"Mr. Sing\" as a single sentence.\n",
    "\n",
    "def count_sentences_2(data, train_data):\n",
    "    custom_tokenizer = PunktSentenceTokenizer(train_data)\n",
    "    sentences_usingPunkt = custom_tokenizer.tokenize(sample_data2)\n",
    "    return(len(sentences_usingPunkt))\n",
    "\n",
    "print(\"Total sentences in the article = \", count_sentences_2(sample_data2, train_data))"
   ]
  },
  {
   "cell_type": "code",
   "execution_count": 214,
   "metadata": {},
   "outputs": [
    {
     "name": "stdout",
     "output_type": "stream",
     "text": [
      "Sentence no. 1 exceeds 15 words\n",
      "Sentence no. 3 exceeds 15 words\n",
      "Sentence no. 4 exceeds 15 words\n",
      "Sentence no. 5 exceeds 15 words\n",
      "Sentence no. 6 exceeds 15 words\n",
      "Sentence no. 7 exceeds 15 words\n",
      "Sentence no. 9 exceeds 15 words\n",
      "Sentence no. 13 exceeds 15 words\n",
      "Sentence no. 14 exceeds 15 words\n",
      "Sentence no. 15 exceeds 15 words\n"
     ]
    }
   ],
   "source": [
    "# Use the function created earlier to detect the second criteria\n",
    "i=1\n",
    "\n",
    "for line in sent_tokenize(sample_data2):\n",
    "    if(count_words(line) > 15):\n",
    "        print(\"Sentence no.\", i, \"exceeds 15 words\")\n",
    "    i += 1 "
   ]
  },
  {
   "cell_type": "code",
   "execution_count": 142,
   "metadata": {},
   "outputs": [
    {
     "name": "stdout",
     "output_type": "stream",
     "text": [
      "\" electromechanical \" exceeds 15 characters\n",
      "\" English-speaking \" exceeds 15 characters\n"
     ]
    }
   ],
   "source": [
    "# Use the function created earlier to detect the third critera\n",
    "\n",
    "for line in sent_tokenize(sample_data2):\n",
    "    for w in word_tokenize(line):\n",
    "        if(count_char(w) > 15):\n",
    "            print(\"\\\"\", w, \"\\\" exceeds 15 characters\")"
   ]
  },
  {
   "cell_type": "markdown",
   "metadata": {},
   "source": [
    "### Conclusion"
   ]
  },
  {
   "cell_type": "markdown",
   "metadata": {},
   "source": [
    "1. First Criteria: 2nd Article has only 14 sentences.\n",
    "\n",
    "2. Second Criteria: Sentences 6,7,9 are accepted in article one while Sentences 8,10,12 are accepted in article two. Sentences 2 and 11 are accepted in both articles"
   ]
  }
 ],
 "metadata": {
  "kernelspec": {
   "display_name": "Python 3",
   "language": "python",
   "name": "python3"
  },
  "language_info": {
   "codemirror_mode": {
    "name": "ipython",
    "version": 3
   },
   "file_extension": ".py",
   "mimetype": "text/x-python",
   "name": "python",
   "nbconvert_exporter": "python",
   "pygments_lexer": "ipython3",
   "version": "3.6.0"
  }
 },
 "nbformat": 4,
 "nbformat_minor": 2
}
