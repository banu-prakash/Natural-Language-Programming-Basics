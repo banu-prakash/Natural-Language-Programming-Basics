{
 "cells": [
  {
   "cell_type": "markdown",
   "metadata": {},
   "source": [
    "## Analysis of Bigrams"
   ]
  },
  {
   "cell_type": "markdown",
   "metadata": {},
   "source": [
    "1. Take any corpus(article) of your choice and analyze all the bigrams present based on ConditionalFrequencyDist and compute the co-occurence matrix.\n",
    "2. Visualize the co-occurence matrix."
   ]
  },
  {
   "cell_type": "markdown",
   "metadata": {},
   "source": [
    "### Importing Packages"
   ]
  },
  {
   "cell_type": "code",
   "execution_count": 195,
   "metadata": {},
   "outputs": [],
   "source": [
    "import numpy as np\n",
    "import pandas as pd\n",
    "\n",
    "# --- NLTK PACKAGE ---\n",
    "import nltk\n",
    "\n",
    "# Tokenizers\n",
    "from nltk.tokenize import word_tokenize, sent_tokenize, PunktSentenceTokenizer, RegexpTokenizer\n",
    "\n",
    "# Stemming and Lemmatizing\n",
    "from nltk.stem import PorterStemmer, WordNetLemmatizer\n",
    "\n",
    "# Stopwords\n",
    "from nltk.corpus import stopwords, state_union\n",
    "\n",
    "# Bigram Analysis\n",
    "from nltk import bigrams\n",
    "\n",
    "# Tagger\n",
    "from nltk.tag import UnigramTagger, BigramTagger, BrillTagger\n",
    "\n",
    "from nltk.util import ngrams    \n",
    "from collections import Counter\n",
    "\n",
    "\n",
    "import matplotlib.pyplot as plt\n",
    "import seaborn as sns\n",
    "from nltk import FreqDist"
   ]
  },
  {
   "cell_type": "markdown",
   "metadata": {},
   "source": [
    "### NLTK Corpora - Brown"
   ]
  },
  {
   "cell_type": "code",
   "execution_count": 42,
   "metadata": {
    "collapsed": true
   },
   "outputs": [],
   "source": [
    "# Importing NLTK Corpus: Brown\n",
    "from nltk.corpus import brown\n",
    "\n",
    "# Words\n",
    "words = brown.words()[:50]\n",
    "\n",
    "# Words in Sentences\n",
    "words_in_sentences = brown.sents()\n",
    "\n",
    "# Tagged Sentences\n",
    "tagged_sentences = brown.tagged_sents()"
   ]
  },
  {
   "cell_type": "markdown",
   "metadata": {},
   "source": [
    "### Birgram Analysis"
   ]
  },
  {
   "cell_type": "code",
   "execution_count": 230,
   "metadata": {},
   "outputs": [],
   "source": [
    "words = ['The', 'smelly', 'cat', 'is', 'going', 'to', 'a', 'doctor', 'The', 'doctor', 'is','doctor', 'is','doctor', 'is','doctor', 'is','doctor', 'is','doctor', 'is','doctor', 'is','doctor','doctor', 'is','doctor', 'is','doctor', 'is','doctor', 'is','doctor', 'is','doctor', 'is','doctor', 'is','doctor', 'is','doctor', 'is','doctor', 'is','doctor', 'is','doctor', 'is','doctor', 'is','doctor', 'is','doctor', 'is','doctor', 'is','doctor', 'is','doctor', 'is','doctor', 'is','doctor', 'is','doctor', 'is','doctor', 'is','doctor', 'is','doctor', 'is','doctor', 'is','doctor', 'is','doctor', 'is','doctor', 'is','doctor', 'is','doctor', 'is','doctor', 'is','doctor', 'is','doctor', 'is','doctor', 'is','doctor', 'is','doctor', 'is','doctor', 'is','doctor', 'is','doctor', 'is','doctor', 'is','doctor', 'is', 'is', 'out', 'of', 'town', 'Doctor', 'is', 'dead']\n",
    "words = [ w.lower() for w in words]"
   ]
  },
  {
   "cell_type": "code",
   "execution_count": 231,
   "metadata": {},
   "outputs": [
    {
     "data": {
      "text/plain": [
       "[(('doctor', 'is'), 49), (('is', 'doctor'), 47), (('the', 'smelly'), 1)]"
      ]
     },
     "execution_count": 231,
     "metadata": {},
     "output_type": "execute_result"
    }
   ],
   "source": [
    "# Using Bigrams:\n",
    "bigrams = ngrams(words, 2)\n",
    "Co_matrix = Counter(bigrams)\n",
    "\n",
    "Co_matrix.most_common(3)"
   ]
  },
  {
   "cell_type": "code",
   "execution_count": 232,
   "metadata": {},
   "outputs": [
    {
     "data": {
      "text/plain": [
       "ConditionalFreqDist(nltk.probability.FreqDist,\n",
       "                    {'a': FreqDist({'doctor': 1}),\n",
       "                     'cat': FreqDist({'is': 1}),\n",
       "                     'doctor': FreqDist({'doctor': 1, 'is': 1, 'the': 1}),\n",
       "                     'going': FreqDist({'to': 1}),\n",
       "                     'is': FreqDist({'dead': 1,\n",
       "                               'doctor': 1,\n",
       "                               'going': 1,\n",
       "                               'is': 1,\n",
       "                               'out': 1}),\n",
       "                     'of': FreqDist({'town': 1}),\n",
       "                     'out': FreqDist({'of': 1}),\n",
       "                     'smelly': FreqDist({'cat': 1}),\n",
       "                     'the': FreqDist({'doctor': 1, 'smelly': 1}),\n",
       "                     'to': FreqDist({'a': 1}),\n",
       "                     'town': FreqDist({'doctor': 1})})"
      ]
     },
     "execution_count": 232,
     "metadata": {},
     "output_type": "execute_result"
    }
   ],
   "source": [
    "nltk.ConditionalFreqDist(Co_matrix)"
   ]
  },
  {
   "cell_type": "code",
   "execution_count": 234,
   "metadata": {},
   "outputs": [
    {
     "data": {
      "image/png": "[encoded data removed]",
      "text/plain": [
       "<matplotlib.figure.Figure at 0x7f71eedb3f60>"
      ]
     },
     "metadata": {},
     "output_type": "display_data"
    }
   ],
   "source": [
    "correlation= pd.DataFrame(condtional_freq_dist)\n",
    "\n",
    "correlation = correlation.fillna(0).corr()\n",
    "sns.heatmap(correlation, mask=np.zeros_like(correlation, dtype=np.bool), \n",
    "            cmap = sns.diverging_palette(220, 10, as_cmap=True))\n",
    "plt.show()\n"
   ]
  },
  {
   "cell_type": "code",
   "execution_count": null,
   "metadata": {
    "collapsed": true
   },
   "outputs": [],
   "source": []
  },
  {
   "cell_type": "code",
   "execution_count": null,
   "metadata": {
    "collapsed": true
   },
   "outputs": [],
   "source": []
  },
  {
   "cell_type": "code",
   "execution_count": null,
   "metadata": {
    "collapsed": true
   },
   "outputs": [],
   "source": []
  },
  {
   "cell_type": "code",
   "execution_count": null,
   "metadata": {
    "collapsed": true
   },
   "outputs": [],
   "source": []
  },
  {
   "cell_type": "code",
   "execution_count": null,
   "metadata": {
    "collapsed": true
   },
   "outputs": [],
   "source": []
  },
  {
   "cell_type": "code",
   "execution_count": null,
   "metadata": {
    "collapsed": true
   },
   "outputs": [],
   "source": []
  },
  {
   "cell_type": "code",
   "execution_count": null,
   "metadata": {
    "collapsed": true
   },
   "outputs": [],
   "source": []
  }
 ],
 "metadata": {
  "kernelspec": {
   "display_name": "Python 3",
   "language": "python",
   "name": "python3"
  },
  "language_info": {
   "codemirror_mode": {
    "name": "ipython",
    "version": 3
   },
   "file_extension": ".py",
   "mimetype": "text/x-python",
   "name": "python",
   "nbconvert_exporter": "python",
   "pygments_lexer": "ipython3",
   "version": "3.6.0"
  }
 },
 "nbformat": 4,
 "nbformat_minor": 2
}
