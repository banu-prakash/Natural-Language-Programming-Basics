{
 "cells": [
  {
   "cell_type": "markdown",
   "metadata": {},
   "source": [
    "## A bit more processing"
   ]
  },
  {
   "cell_type": "markdown",
   "metadata": {},
   "source": [
    "So here is Mr. James Wilson who wrote about Elon Musk. Here is the following content.\n",
    "\n",
    "~~~~ \n",
    "Musk was born on June 28, 1971, in Pretoria, Gauteng, South Africa,[27] the son of Maye Musk (née Haldeman), a model and dietician from Regina, Saskatchewan, Canada;[28] and Errol Musk, a South African electromechanical engineer, pilot and sailor. He has a younger brother, Kimbal (born 1972), and a younger sister, Tosca (born 1974).[28][29][30][31] His paternal grandmother was British, and he also has Pennsylvania Dutch ancestry,[32][33] and his maternal grandfather was American, from Minnesota.[34] After his parents divorced in 1980, Musk lived mostly with his father in the suburbs of Pretoria.[32]\n",
    "\n",
    "During his childhood he had an interest in reading and often did so for hours at a time.[35]\n",
    "\n",
    "At What age did Musk got interested in computing? At age 10, he developed an interest in computing with the Commodore VIC-20.[36] He taught himself computer programming at the age of 12, sold the code for a BASIC-based video game he created called Blastar, to a magazine called PC and Office Technology, for approximately $500. [37][38] A web version of the game is available online.[37][39]\n",
    "\n",
    "Musk was severely bullied throughout his childhood, and was once hospitalized when a group of boys threw him down a flight of stairs and then beat him until he lost consciousness.[40]\n",
    "\n",
    "Musk was initially educated at private schools, attending the English-speaking Waterkloof House Preparatory School. \n",
    "\n",
    "Mr. Singh helped Musk during his initial days when he was severely bullied during his childhood.\n",
    "\n",
    "Musk later graduated from Pretoria Boys High School and moved to Canada in June 1989, just before his 18th birthday,[41] after obtaining Canadian citizenship through his Canadian-born mother.[42][43] Although at the time Musk had to register to become a Canadian citizen, Bill C-37, which came into law in April of 2009, effectively made his Canadian citizenship retroactive to his birth since he was born in the first generation abroad to a Canadian-born mother. Therefore, with the law change, he is considered to have always been a Canadian citizen by birth.\n",
    "~~~~\n"
   ]
  },
  {
   "cell_type": "code",
   "execution_count": 2,
   "metadata": {
    "collapsed": true
   },
   "outputs": [],
   "source": [
    "sample_data = \"\"\"Musk was born on June 28, 1971, in Pretoria, Gauteng, South Africa,[27] the son of Maye Musk (née Haldeman), a model and dietician from Regina, Saskatchewan, Canada;[28] and Errol Musk, a South African electromechanical engineer, pilot and sailor. He has a younger brother, Kimbal (born 1972), and a younger sister, Tosca (born 1974).[28][29][30][31] His paternal grandmother was British, and he also has Pennsylvania Dutch ancestry,[32][33] and his maternal grandfather was American, from Minnesota.[34] After his parents divorced in 1980, Musk lived mostly with his father in the suburbs of Pretoria.[32]\n",
    "\n",
    "During his childhood he had an interest in reading and often did so for hours at a time.[35]\n",
    "\n",
    "At What age did Musk got interested in computing? At age 10, he developed an interest in computing with the Commodore VIC-20.[36] He taught himself computer programming at the age of 12, sold the code for a BASIC-based video game he created called Blastar, to a magazine called PC and Office Technology, for approximately $500. [37][38] A web version of the game is available online.[37][39]\n",
    "\n",
    "Musk was severely bullied throughout his childhood, and was once hospitalized when a group of boys threw him down a flight of stairs and then beat him until he lost consciousness.[40]\n",
    "\n",
    "Musk was initially educated at private schools, attending the English-speaking Waterkloof House Preparatory School. \n",
    "\n",
    "Mr. Singh helped Musk during his initial days when he was severely bullied during his childhood.\n",
    "\n",
    "Musk later graduated from Pretoria Boys High School and moved to Canada in June 1989, just before his 18th birthday,[41] after obtaining Canadian citizenship through his Canadian-born mother.[42][43] Although at the time Musk had to register to become a Canadian citizen, Bill C-37, which came into law in April of 2009, effectively made his Canadian citizenship retroactive to his birth since he was born in the first generation abroad to a Canadian-born mother. Therefore, with the law change, he is considered to have always been a Canadian citizen by birth.\"\"\""
   ]
  },
  {
   "cell_type": "markdown",
   "metadata": {},
   "source": [
    "### Importing Packages"
   ]
  },
  {
   "cell_type": "code",
   "execution_count": 3,
   "metadata": {
    "collapsed": true
   },
   "outputs": [],
   "source": [
    "from nltk.tokenize import word_tokenize, sent_tokenize, PunktSentenceTokenizer, RegexpTokenizer"
   ]
  },
  {
   "cell_type": "markdown",
   "metadata": {},
   "source": [
    "## Part - 1\n",
    "\n",
    "    Word Tokenize the content published using RegexpTokenizer\n"
   ]
  },
  {
   "cell_type": "code",
   "execution_count": 4,
   "metadata": {
    "scrolled": false
   },
   "outputs": [
    {
     "name": "stdout",
     "output_type": "stream",
     "text": [
      "['Musk', 'was', 'born', 'on', 'June', '28', '1971', 'in', 'Pretoria', 'Gauteng', 'South', 'Africa', '27', 'the', 'son', 'of', 'Maye', 'Musk', 'née', 'Haldeman', 'a', 'model', 'and', 'dietician', 'from', 'Regina', 'Saskatchewan', 'Canada', '28', 'and', 'Errol', 'Musk', 'a', 'South', 'African', 'electromechanical', 'engineer', 'pilot', 'and', 'sailor', 'He', 'has', 'a', 'younger', 'brother', 'Kimbal', 'born', '1972', 'and', 'a', 'younger', 'sister', 'Tosca', 'born', '1974', '28', '29', '30', '31', 'His', 'paternal', 'grandmother', 'was', 'British', 'and', 'he', 'also', 'has', 'Pennsylvania', 'Dutch', 'ancestry', '32', '33', 'and', 'his', 'maternal', 'grandfather', 'was', 'American', 'from', 'Minnesota', '34', 'After', 'his', 'parents', 'divorced', 'in', '1980', 'Musk', 'lived', 'mostly', 'with', 'his', 'father', 'in', 'the', 'suburbs', 'of', 'Pretoria', '32', 'During', 'his', 'childhood', 'he', 'had', 'an', 'interest', 'in', 'reading', 'and', 'often', 'did', 'so', 'for', 'hours', 'at', 'a', 'time', '35', 'At', 'What', 'age', 'did', 'Musk', 'got', 'interested', 'in', 'computing', 'At', 'age', '10', 'he', 'developed', 'an', 'interest', 'in', 'computing', 'with', 'the', 'Commodore', 'VIC', '20', '36', 'He', 'taught', 'himself', 'computer', 'programming', 'at', 'the', 'age', 'of', '12', 'sold', 'the', 'code', 'for', 'a', 'BASIC', 'based', 'video', 'game', 'he', 'created', 'called', 'Blastar', 'to', 'a', 'magazine', 'called', 'PC', 'and', 'Office', 'Technology', 'for', 'approximately', '500', '37', '38', 'A', 'web', 'version', 'of', 'the', 'game', 'is', 'available', 'online', '37', '39', 'Musk', 'was', 'severely', 'bullied', 'throughout', 'his', 'childhood', 'and', 'was', 'once', 'hospitalized', 'when', 'a', 'group', 'of', 'boys', 'threw', 'him', 'down', 'a', 'flight', 'of', 'stairs', 'and', 'then', 'beat', 'him', 'until', 'he', 'lost', 'consciousness', '40', 'Musk', 'was', 'initially', 'educated', 'at', 'private', 'schools', 'attending', 'the', 'English', 'speaking', 'Waterkloof', 'House', 'Preparatory', 'School', 'Mr', 'Singh', 'helped', 'Musk', 'during', 'his', 'initial', 'days', 'when', 'he', 'was', 'severely', 'bullied', 'during', 'his', 'childhood', 'Musk', 'later', 'graduated', 'from', 'Pretoria', 'Boys', 'High', 'School', 'and', 'moved', 'to', 'Canada', 'in', 'June', '1989', 'just', 'before', 'his', '18th', 'birthday', '41', 'after', 'obtaining', 'Canadian', 'citizenship', 'through', 'his', 'Canadian', 'born', 'mother', '42', '43', 'Although', 'at', 'the', 'time', 'Musk', 'had', 'to', 'register', 'to', 'become', 'a', 'Canadian', 'citizen', 'Bill', 'C', '37', 'which', 'came', 'into', 'law', 'in', 'April', 'of', '2009', 'effectively', 'made', 'his', 'Canadian', 'citizenship', 'retroactive', 'to', 'his', 'birth', 'since', 'he', 'was', 'born', 'in', 'the', 'first', 'generation', 'abroad', 'to', 'a', 'Canadian', 'born', 'mother', 'Therefore', 'with', 'the', 'law', 'change', 'he', 'is', 'considered', 'to', 'have', 'always', 'been', 'a', 'Canadian', 'citizen', 'by', 'birth']\n"
     ]
    }
   ],
   "source": [
    "pattern = RegexpTokenizer(r'\\w+')\n",
    "words = pattern.tokenize(sample_data)\n",
    "\n",
    "print(words)"
   ]
  },
  {
   "cell_type": "markdown",
   "metadata": {},
   "source": [
    "## Part - 2\n",
    "\n",
    "    There's a kind of problem with this content there are lot of tokens which are kind of junk.\n",
    "\n",
    "    I am talking about the characters like [27] which kind of makes it difficult to read. Write a function to remove this?\n",
    "\n",
    "        1. Well there are many ways to do this\n",
    "\n",
    "            1.1 But remove these patterns using RegexpTokenizer combined with some kind of pattern matcher there are many (findall, search, match)\n",
    "\n",
    "            1.2 Remove using some other technique other than Regular Expression tokenizer"
   ]
  },
  {
   "cell_type": "code",
   "execution_count": 5,
   "metadata": {},
   "outputs": [
    {
     "name": "stdout",
     "output_type": "stream",
     "text": [
      "['Musk', ' was', ' born', ' on', ' June', ' 28', ' 1971', ' in', ' Pretoria', ' Gauteng', ' South', ' Africa', ' the', ' son', ' of', ' Maye', ' Musk', '(née', ' Haldeman', ' a', ' model', ' and', ' dietician', ' from', ' Regina', ' Saskatchewan', ' Canada', ' and', ' Errol', ' Musk', ' a', ' South', ' African', ' electromechanical', ' engineer', ' pilot', ' and', ' sailor', ' He', ' has', ' a', ' younger', ' brother', ' Kimbal', '(born', ' 1972', ' and', ' a', ' younger', ' sister', ' Tosca', '(born', ' 1974', ' His', ' paternal', ' grandmother', ' was', ' British', ' and', ' he', ' also', ' has', ' Pennsylvania', ' Dutch', ' ancestry', ' and', ' his', ' maternal', ' grandfather', ' was', ' American', ' from', ' Minnesota', ' After', ' his', ' parents', ' divorced', ' in', ' 1980', ' Musk', ' lived', ' mostly', ' with', ' his', ' father', ' in', ' the', ' suburbs', ' of', ' Pretoria', 'During', ' his', ' childhood', ' he', ' had', ' an', ' interest', ' in', ' reading', ' and', ' often', ' did', ' so', ' for', ' hours', ' at', ' a', ' time', 'At', ' What', ' age', ' did', ' Musk', ' got', ' interested', ' in', ' computing', ' At', ' age', ' 10', ' he', ' developed', ' an', ' interest', ' in', ' computing', ' with', ' the', ' Commodore', ' VIC', '-20', ' He', ' taught', ' himself', ' computer', ' programming', ' at', ' the', ' age', ' of', ' 12', ' sold', ' the', ' code', ' for', ' a', ' BASIC', '-based', ' video', ' game', ' he', ' created', ' called', ' Blastar', ' to', ' a', ' magazine', ' called', ' PC', ' and', ' Office', ' Technology', ' for', ' approximately', '$500', ' A', ' web', ' version', ' of', ' the', ' game', ' is', ' available', ' online', 'Musk', ' was', ' severely', ' bullied', ' throughout', ' his', ' childhood', ' and', ' was', ' once', ' hospitalized', ' when', ' a', ' group', ' of', ' boys', ' threw', ' him', ' down', ' a', ' flight', ' of', ' stairs', ' and', ' then', ' beat', ' him', ' until', ' he', ' lost', ' consciousness', 'Musk', ' was', ' initially', ' educated', ' at', ' private', ' schools', ' attending', ' the', ' English', '-speaking', ' Waterkloof', ' House', ' Preparatory', ' School', 'Mr', ' Singh', ' helped', ' Musk', ' during', ' his', ' initial', ' days', ' when', ' he', ' was', ' severely', ' bullied', ' during', ' his', ' childhood', 'Musk', ' later', ' graduated', ' from', ' Pretoria', ' Boys', ' High', ' School', ' and', ' moved', ' to', ' Canada', ' in', ' June', ' 1989', ' just', ' before', ' his', ' 18th', ' birthday', ' after', ' obtaining', ' Canadian', ' citizenship', ' through', ' his', ' Canadian', '-born', ' mother', ' Although', ' at', ' the', ' time', ' Musk', ' had', ' to', ' register', ' to', ' become', ' a', ' Canadian', ' citizen', ' Bill', ' C', '-37', ' which', ' came', ' into', ' law', ' in', ' April', ' of', ' 2009', ' effectively', ' made', ' his', ' Canadian', ' citizenship', ' retroactive', ' to', ' his', ' birth', ' since', ' he', ' was', ' born', ' in', ' the', ' first', ' generation', ' abroad', ' to', ' a', ' Canadian', '-born', ' mother', ' Therefore', ' with', ' the', ' law', ' change', ' he', ' is', ' considered', ' to', ' have', ' always', ' been', ' a', ' Canadian', ' citizen', ' by', ' birth']\n"
     ]
    }
   ],
   "source": [
    "# Using RegexpTokenizer\n",
    "\n",
    "pattern = RegexpTokenizer(r'[^\\n\\[\\d{1,2}\\]]\\w+')\n",
    "words = pattern.tokenize(sample_data)\n",
    "print(words)"
   ]
  },
  {
   "cell_type": "code",
   "execution_count": 6,
   "metadata": {},
   "outputs": [
    {
     "data": {
      "text/plain": [
       "'foo bar'"
      ]
     },
     "execution_count": 6,
     "metadata": {},
     "output_type": "execute_result"
    }
   ],
   "source": [
    "d"
   ]
  },
  {
   "cell_type": "markdown",
   "metadata": {},
   "source": [
    "## Part - 3\n",
    "\n",
    "    Extract all the important years from the given extract. Also extract the word immediately preceded by the year. If the contained in date extract the entire date. (In reference to the document)"
   ]
  },
  {
   "cell_type": "code",
   "execution_count": 29,
   "metadata": {
    "collapsed": true
   },
   "outputs": [],
   "source": [
    "import re"
   ]
  },
  {
   "cell_type": "code",
   "execution_count": 30,
   "metadata": {},
   "outputs": [
    {
     "data": {
      "text/plain": [
       "['1971', '1972', '1974', '1980', '1989', '2009']"
      ]
     },
     "execution_count": 30,
     "metadata": {},
     "output_type": "execute_result"
    }
   ],
   "source": [
    "re.findall(r'\\d{4}', sample_data)"
   ]
  },
  {
   "cell_type": "markdown",
   "metadata": {},
   "source": [
    "Lookahead\n",
    "- ?=\n",
    "- ?!\n",
    "\n",
    "Lookbehind\n",
    "- ?<=\n",
    "- ?<!"
   ]
  },
  {
   "cell_type": "code",
   "execution_count": 47,
   "metadata": {},
   "outputs": [
    {
     "data": {
      "text/plain": [
       "['June 28, 1971', 'born 1972', 'born 1974', 'in 1980', 'June 1989', 'of 2009']"
      ]
     },
     "execution_count": 47,
     "metadata": {},
     "output_type": "execute_result"
    }
   ],
   "source": [
    "# (.... | ) - conditions between dif formats \n",
    "# (?: ....) - to disable capture groups feature of 're.findall()'\n",
    "\n",
    "re.findall(r'\\w+(?:\\s\\d{2}\\,|)\\s\\d{4}', sample_data)"
   ]
  },
  {
   "cell_type": "markdown",
   "metadata": {},
   "source": [
    "## Part - 4\n",
    "\n",
    "    1. Find all the words which are preceded by the year. For example in \"born 1970\" born is the word which is preceded by 1970\n",
    "    \n",
    "    2. Find all the words which are 4 characters long\n",
    "    \n",
    "    3. Find all the years which are not followed by the word born"
   ]
  },
  {
   "cell_type": "code",
   "execution_count": 48,
   "metadata": {},
   "outputs": [
    {
     "data": {
      "text/plain": [
       "['June 28,', 'born', 'born', 'in', 'June', 'of']"
      ]
     },
     "execution_count": 48,
     "metadata": {},
     "output_type": "execute_result"
    }
   ],
   "source": [
    "# Looking ahead (?=' 'YYYY)\n",
    "re.findall(r'\\w+(?:\\s\\d{2}\\,|)(?=\\s\\d{4})', sample_data)"
   ]
  },
  {
   "cell_type": "code",
   "execution_count": 50,
   "metadata": {},
   "outputs": [
    {
     "name": "stdout",
     "output_type": "stream",
     "text": [
      "['Musk', 'born', 'June', 'Maye', 'Musk', 'from', 'Musk', 'born', 'born', 'also', 'from', 'Musk', 'with', 'time', 'What', 'Musk', 'with', 'sold', 'code', 'game', 'game', 'Musk', 'once', 'when', 'boys', 'down', 'then', 'beat', 'lost', 'Musk', 'Musk', 'days', 'when', 'Musk', 'from', 'Boys', 'High', 'June', 'just', 'born', 'time', 'Musk', 'Bill', 'came', 'into', 'made', 'born', 'born', 'with', 'have', 'been']\n"
     ]
    }
   ],
   "source": [
    "print(re.findall(r'\\b[a-z|A-Z]{4}\\b', sample_data))"
   ]
  },
  {
   "cell_type": "code",
   "execution_count": 52,
   "metadata": {},
   "outputs": [
    {
     "data": {
      "text/plain": [
       "['1971', '1980', '1989', '2009']"
      ]
     },
     "execution_count": 52,
     "metadata": {},
     "output_type": "execute_result"
    }
   ],
   "source": [
    "re.findall(r'(?<!born\\s)\\d{4}', sample_data)"
   ]
  }
 ],
 "metadata": {
  "kernelspec": {
   "display_name": "Python 3",
   "language": "python",
   "name": "python3"
  },
  "language_info": {
   "codemirror_mode": {
    "name": "ipython",
    "version": 3
   },
   "file_extension": ".py",
   "mimetype": "text/x-python",
   "name": "python",
   "nbconvert_exporter": "python",
   "pygments_lexer": "ipython3",
   "version": "3.6.0"
  }
 },
 "nbformat": 4,
 "nbformat_minor": 2
}
