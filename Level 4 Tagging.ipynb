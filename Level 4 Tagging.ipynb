{
 "cells": [
  {
   "cell_type": "markdown",
   "metadata": {},
   "source": [
    "### Tagging"
   ]
  },
  {
   "cell_type": "markdown",
   "metadata": {},
   "source": [
    "So here is Mr. James Wilson who wrote about Elon Musk. Here is the following content.\n",
    "\n",
    "~~~~ \n",
    "Musk was born on June 28, 1971, in Pretoria, Gauteng, South Africa,[27] the son of Maye Musk (née Haldeman), a model and dietician from Regina, Saskatchewan, Canada;[28] and Errol Musk, a South African electromechanical engineer, pilot and sailor. He has a younger brother, Kimbal (born 1972), and a younger sister, Tosca (born 1974).[28][29][30][31] His paternal grandmother was British, and he also has Pennsylvania Dutch ancestry,[32][33] and his maternal grandfather was American, from Minnesota.[34] After his parents divorced in 1980, Musk lived mostly with his father in the suburbs of Pretoria.[32]\n",
    "\n",
    "During his childhood he had an interest in reading and often did so for hours at a time.[35]\n",
    "\n",
    "At What age did Musk got interested in computing? At age 10, he developed an interest in computing with the Commodore VIC-20.[36] He taught himself computer programming at the age of 12, sold the code for a BASIC-based video game he created called Blastar, to a magazine called PC and Office Technology, for approximately $500. [37][38] A web version of the game is available online.[37][39]\n",
    "\n",
    "Musk was severely bullied throughout his childhood, and was once hospitalized when a group of boys threw him down a flight of stairs and then beat him until he lost consciousness.[40]\n",
    "\n",
    "Musk was initially educated at private schools, attending the English-speaking Waterkloof House Preparatory School. \n",
    "\n",
    "Mr. Singh helped Musk during his initial days when he was severely bullied during his childhood.\n",
    "\n",
    "Musk later graduated from Pretoria Boys High School and moved to Canada in June 1989, just before his 18th birthday,[41] after obtaining Canadian citizenship through his Canadian-born mother.[42][43] Although at the time Musk had to register to become a Canadian citizen, Bill C-37, which came into law in April of 2009, effectively made his Canadian citizenship retroactive to his birth since he was born in the first generation abroad to a Canadian-born mother. Therefore, with the law change, he is considered to have always been a Canadian citizen by birth.\n",
    "~~~~\n"
   ]
  },
  {
   "cell_type": "markdown",
   "metadata": {},
   "source": [
    "### Part - 1\n",
    "\n",
    "1. Tag the given content using POS Tagger\n",
    "\n",
    "2. Default Tag the entire content with the tag which appears most number of times\n"
   ]
  },
  {
   "cell_type": "code",
   "execution_count": 104,
   "metadata": {
    "collapsed": true
   },
   "outputs": [],
   "source": [
    "data = \"\"\"Musk was born on June 28, 1971, in Pretoria, Gauteng, South Africa,[27] the son of Maye Musk (née Haldeman), a model and dietician from Regina, Saskatchewan, Canada;[28] and Errol Musk, a South African electromechanical engineer, pilot and sailor. He has a younger brother, Kimbal (born 1972), and a younger sister, Tosca (born 1974).[28][29][30][31] His paternal grandmother was British, and he also has Pennsylvania Dutch ancestry,[32][33] and his maternal grandfather was American, from Minnesota.[34] After his parents divorced in 1980, Musk lived mostly with his father in the suburbs of Pretoria.[32]\n",
    "\n",
    "During his childhood he had an interest in reading and often did so for hours at a time.[35]\n",
    "\n",
    "At What age did Musk got interested in computing? At age 10, he developed an interest in computing with the Commodore VIC-20.[36] He taught himself computer programming at the age of 12, sold the code for a BASIC-based video game he created called Blastar, to a magazine called PC and Office Technology, for approximately $500. [37][38] A web version of the game is available online.[37][39]\n",
    "\n",
    "Musk was severely bullied throughout his childhood, and was once hospitalized when a group of boys threw him down a flight of stairs and then beat him until he lost consciousness.[40]\n",
    "\n",
    "Musk was initially educated at private schools, attending the English-speaking Waterkloof House Preparatory School. \n",
    "\n",
    "Mr. Singh helped Musk during his initial days when he was severely bullied during his childhood.\n",
    "\n",
    "Musk later graduated from Pretoria Boys High School and moved to Canada in June 1989, just before his 18th birthday,[41] after obtaining Canadian citizenship through his Canadian-born mother.[42][43] Although at the time Musk had to register to become a Canadian citizen, Bill C-37, which came into law in April of 2009, effectively made his Canadian citizenship retroactive to his birth since he was born in the first generation abroad to a Canadian-born mother. Therefore, with the law change, he is considered to have always been a Canadian citizen by birth.\"\"\""
   ]
  },
  {
   "cell_type": "markdown",
   "metadata": {},
   "source": [
    "### Importing Packages"
   ]
  },
  {
   "cell_type": "code",
   "execution_count": 105,
   "metadata": {
    "collapsed": true
   },
   "outputs": [],
   "source": [
    "import numpy as np\n",
    "import pandas as pd\n",
    "import nltk\n",
    "\n",
    "# Tokenizers\n",
    "from nltk.tokenize import word_tokenize, sent_tokenize, PunktSentenceTokenizer, RegexpTokenizer\n",
    "\n",
    "# Stemming and Lemmatizing\n",
    "from nltk.stem import PorterStemmer, WordNetLemmatizer\n",
    "\n",
    "# Stopwords\n",
    "from nltk.corpus import stopwords, state_union"
   ]
  },
  {
   "cell_type": "markdown",
   "metadata": {},
   "source": [
    "### Tokenizing the sentences"
   ]
  },
  {
   "cell_type": "code",
   "execution_count": 106,
   "metadata": {
    "collapsed": true
   },
   "outputs": [],
   "source": [
    "# Tokenize the sentences - \n",
    "tokens = sent_tokenize(data)\n",
    "\n",
    "## *(We cannot use 'word_tokenize' here as context will be lost and chucking wouldn't be possible later)"
   ]
  },
  {
   "cell_type": "markdown",
   "metadata": {},
   "source": [
    "### Creating Part of Speech Tagging"
   ]
  },
  {
   "cell_type": "code",
   "execution_count": 107,
   "metadata": {
    "scrolled": false
   },
   "outputs": [
    {
     "name": "stdout",
     "output_type": "stream",
     "text": [
      "\n",
      " [('Musk', 'NNP'), ('was', 'VBD'), ('born', 'VBN'), ('on', 'IN'), ('June', 'NNP'), ('28', 'CD'), ('1971', 'CD'), ('in', 'IN'), ('Pretoria', 'NNP'), ('Gauteng', 'NNP'), ('South', 'NNP'), ('Africa', 'NNP'), ('27', 'CD'), ('the', 'DT'), ('son', 'NN'), ('of', 'IN'), ('Maye', 'NNP'), ('Musk', 'NNP'), ('née', 'MD'), ('Haldeman', 'NNP'), ('a', 'DT'), ('model', 'NN'), ('and', 'CC'), ('dietician', 'JJ'), ('from', 'IN'), ('Regina', 'NNP'), ('Saskatchewan', 'NNP'), ('Canada', 'NNP'), ('28', 'CD'), ('and', 'CC'), ('Errol', 'NNP'), ('Musk', 'NNP'), ('a', 'DT'), ('South', 'JJ'), ('African', 'JJ'), ('electromechanical', 'JJ'), ('engineer', 'NN'), ('pilot', 'NN'), ('and', 'CC'), ('sailor', 'NN')] \n",
      "\n",
      "\n",
      " [('He', 'PRP'), ('has', 'VBZ'), ('a', 'DT'), ('younger', 'JJR'), ('brother', 'NN'), ('Kimbal', 'NNP'), ('born', 'NN'), ('1972', 'CD'), ('and', 'CC'), ('a', 'DT'), ('younger', 'JJR'), ('sister', 'NN'), ('Tosca', 'NNP'), ('born', 'NN'), ('1974', 'CD')] \n",
      "\n",
      "\n",
      " [('28', 'CD'), ('29', 'CD'), ('30', 'CD'), ('31', 'CD'), ('His', 'PRP$'), ('paternal', 'JJ'), ('grandmother', 'NN'), ('was', 'VBD'), ('British', 'JJ'), ('and', 'CC'), ('he', 'PRP'), ('also', 'RB'), ('has', 'VBZ'), ('Pennsylvania', 'NNP'), ('Dutch', 'NNP'), ('ancestry', 'NN'), ('32', 'CD'), ('33', 'CD'), ('and', 'CC'), ('his', 'PRP$'), ('maternal', 'JJ'), ('grandfather', 'NN'), ('was', 'VBD'), ('American', 'JJ'), ('from', 'IN'), ('Minnesota', 'NNP')] \n",
      "\n",
      "\n",
      " [('34', 'CD'), ('After', 'IN'), ('his', 'PRP$'), ('parents', 'NNS'), ('divorced', 'VBN'), ('in', 'IN'), ('1980', 'CD'), ('Musk', 'NNP'), ('lived', 'VBD'), ('mostly', 'RB'), ('with', 'IN'), ('his', 'PRP$'), ('father', 'NN'), ('in', 'IN'), ('the', 'DT'), ('suburbs', 'NN'), ('of', 'IN'), ('Pretoria', 'NNP')] \n",
      "\n",
      "\n",
      " [('32', 'CD'), ('During', 'IN'), ('his', 'PRP$'), ('childhood', 'NN'), ('he', 'PRP'), ('had', 'VBD'), ('an', 'DT'), ('interest', 'NN'), ('in', 'IN'), ('reading', 'NN'), ('and', 'CC'), ('often', 'RB'), ('did', 'VBD'), ('so', 'RB'), ('for', 'IN'), ('hours', 'NNS'), ('at', 'IN'), ('a', 'DT'), ('time', 'NN')] \n",
      "\n",
      "\n",
      " [('35', 'CD'), ('At', 'IN'), ('What', 'WP'), ('age', 'NN'), ('did', 'VBD'), ('Musk', 'NNP'), ('got', 'VBD'), ('interested', 'JJ'), ('in', 'IN'), ('computing', 'VBG')] \n",
      "\n",
      "\n",
      " [('At', 'IN'), ('age', 'NN'), ('10', 'CD'), ('he', 'PRP'), ('developed', 'VBD'), ('an', 'DT'), ('interest', 'NN'), ('in', 'IN'), ('computing', 'VBG'), ('with', 'IN'), ('the', 'DT'), ('Commodore', 'NNP'), ('VIC', 'NNP'), ('20', 'CD')] \n",
      "\n",
      "\n",
      " [('36', 'CD'), ('He', 'PRP'), ('taught', 'VBD'), ('himself', 'PRP'), ('computer', 'NN'), ('programming', 'VBG'), ('at', 'IN'), ('the', 'DT'), ('age', 'NN'), ('of', 'IN'), ('12', 'CD'), ('sold', 'VBD'), ('the', 'DT'), ('code', 'NN'), ('for', 'IN'), ('a', 'DT'), ('BASIC', 'NNP'), ('based', 'VBN'), ('video', 'NN'), ('game', 'NN'), ('he', 'PRP'), ('created', 'VBD'), ('called', 'VBN'), ('Blastar', 'NNP'), ('to', 'TO'), ('a', 'DT'), ('magazine', 'NN'), ('called', 'VBN'), ('PC', 'NN'), ('and', 'CC'), ('Office', 'NNP'), ('Technology', 'NNP'), ('for', 'IN'), ('approximately', 'RB'), ('500', 'CD')] \n",
      "\n",
      "\n",
      " [('37', 'CD'), ('38', 'CD'), ('A', 'NNP'), ('web', 'JJ'), ('version', 'NN'), ('of', 'IN'), ('the', 'DT'), ('game', 'NN'), ('is', 'VBZ'), ('available', 'JJ'), ('online', 'NN')] \n",
      "\n",
      "\n",
      " [('37', 'CD'), ('39', 'CD'), ('Musk', 'NNP'), ('was', 'VBD'), ('severely', 'RB'), ('bullied', 'VBN'), ('throughout', 'IN'), ('his', 'PRP$'), ('childhood', 'NN'), ('and', 'CC'), ('was', 'VBD'), ('once', 'RB'), ('hospitalized', 'VBN'), ('when', 'WRB'), ('a', 'DT'), ('group', 'NN'), ('of', 'IN'), ('boys', 'NNS'), ('threw', 'VBD'), ('him', 'PRP'), ('down', 'RP'), ('a', 'DT'), ('flight', 'NN'), ('of', 'IN'), ('stairs', 'NNS'), ('and', 'CC'), ('then', 'RB'), ('beat', 'VBD'), ('him', 'PRP'), ('until', 'IN'), ('he', 'PRP'), ('lost', 'VBD'), ('consciousness', 'NN')] \n",
      "\n",
      "\n",
      " [('40', 'CD'), ('Musk', 'NNP'), ('was', 'VBD'), ('initially', 'RB'), ('educated', 'VBN'), ('at', 'IN'), ('private', 'JJ'), ('schools', 'NNS'), ('attending', 'VBG'), ('the', 'DT'), ('English', 'JJ'), ('speaking', 'NN'), ('Waterkloof', 'NNP'), ('House', 'NNP'), ('Preparatory', 'NNP'), ('School', 'NNP')] \n",
      "\n",
      "\n",
      " [('Mr', 'NNP'), ('Singh', 'NNP'), ('helped', 'VBD'), ('Musk', 'NNP'), ('during', 'IN'), ('his', 'PRP$'), ('initial', 'JJ'), ('days', 'NNS'), ('when', 'WRB'), ('he', 'PRP'), ('was', 'VBD'), ('severely', 'RB'), ('bullied', 'VBN'), ('during', 'IN'), ('his', 'PRP$'), ('childhood', 'NN')] \n",
      "\n",
      "\n",
      " [('Musk', 'NNP'), ('later', 'RB'), ('graduated', 'VBD'), ('from', 'IN'), ('Pretoria', 'NNP'), ('Boys', 'NNP'), ('High', 'NNP'), ('School', 'NNP'), ('and', 'CC'), ('moved', 'VBD'), ('to', 'TO'), ('Canada', 'NNP'), ('in', 'IN'), ('June', 'NNP'), ('1989', 'CD'), ('just', 'RB'), ('before', 'IN'), ('his', 'PRP$'), ('18th', 'CD'), ('birthday', 'NN'), ('41', 'CD'), ('after', 'IN'), ('obtaining', 'VBG'), ('Canadian', 'JJ'), ('citizenship', 'NN'), ('through', 'IN'), ('his', 'PRP$'), ('Canadian', 'JJ'), ('born', 'NN'), ('mother', 'NN')] \n",
      "\n",
      "\n",
      " [('42', 'CD'), ('43', 'CD'), ('Although', 'IN'), ('at', 'IN'), ('the', 'DT'), ('time', 'NN'), ('Musk', 'NNP'), ('had', 'VBD'), ('to', 'TO'), ('register', 'VB'), ('to', 'TO'), ('become', 'VB'), ('a', 'DT'), ('Canadian', 'JJ'), ('citizen', 'NN'), ('Bill', 'NNP'), ('C', 'NNP'), ('37', 'CD'), ('which', 'WDT'), ('came', 'VBD'), ('into', 'IN'), ('law', 'NN'), ('in', 'IN'), ('April', 'NNP'), ('of', 'IN'), ('2009', 'CD'), ('effectively', 'RB'), ('made', 'VBD'), ('his', 'PRP$'), ('Canadian', 'JJ'), ('citizenship', 'NN'), ('retroactive', 'JJ'), ('to', 'TO'), ('his', 'PRP$'), ('birth', 'NN'), ('since', 'IN'), ('he', 'PRP'), ('was', 'VBD'), ('born', 'VBN'), ('in', 'IN'), ('the', 'DT'), ('first', 'JJ'), ('generation', 'NN'), ('abroad', 'RB'), ('to', 'TO'), ('a', 'DT'), ('Canadian', 'JJ'), ('born', 'NN'), ('mother', 'NN')] \n",
      "\n",
      "\n",
      " [('Therefore', 'RB'), ('with', 'IN'), ('the', 'DT'), ('law', 'NN'), ('change', 'NN'), ('he', 'PRP'), ('is', 'VBZ'), ('considered', 'VBN'), ('to', 'TO'), ('have', 'VB'), ('always', 'RB'), ('been', 'VBN'), ('a', 'DT'), ('Canadian', 'JJ'), ('citizen', 'NN'), ('by', 'IN'), ('birth', 'NN')] \n",
      "\n"
     ]
    }
   ],
   "source": [
    "tag_list = []\n",
    "\n",
    "for word in tokens:\n",
    "    pattern = RegexpTokenizer(r'\\w+')\n",
    "    word = pattern.tokenize(word)\n",
    "    tag = nltk.pos_tag(word)\n",
    "    \n",
    "    for i in tag:\n",
    "        if i[1] != 'CD':\n",
    "            tag_list.append(i[1])\n",
    "        \n",
    "    print(\"\\n\", tag, \"\\n\")"
   ]
  },
  {
   "cell_type": "markdown",
   "metadata": {},
   "source": [
    "### Frequency Distribution"
   ]
  },
  {
   "cell_type": "code",
   "execution_count": 108,
   "metadata": {},
   "outputs": [
    {
     "name": "stdout",
     "output_type": "stream",
     "text": [
      "Maximum number of times appearing TAG is =  [('NN', 53)]\n"
     ]
    }
   ],
   "source": [
    "freqDist_tag = nltk.FreqDist(tag_list)\n",
    "\n",
    "top_1 = freqDist_tag.most_common(1)    # OR - nltk.FreqDist(tag_list).max()\n",
    "\n",
    "print(\"Maximum number of times appearing TAG is = \", top_1)"
   ]
  },
  {
   "cell_type": "markdown",
   "metadata": {},
   "source": [
    "### Setting a new Tag"
   ]
  },
  {
   "cell_type": "code",
   "execution_count": 95,
   "metadata": {},
   "outputs": [
    {
     "name": "stdout",
     "output_type": "stream",
     "text": [
      "\n",
      " [('Musk', 'NN'), ('was', 'NN'), ('born', 'NN'), ('on', 'NN'), ('June', 'NN'), ('28', 'NN'), ('1971', 'NN'), ('in', 'NN'), ('Pretoria', 'NN'), ('Gauteng', 'NN'), ('South', 'NN'), ('Africa', 'NN'), ('27', 'NN'), ('the', 'NN'), ('son', 'NN'), ('of', 'NN'), ('Maye', 'NN'), ('Musk', 'NN'), ('née', 'NN'), ('Haldeman', 'NN'), ('a', 'NN'), ('model', 'NN'), ('and', 'NN'), ('dietician', 'NN'), ('from', 'NN'), ('Regina', 'NN'), ('Saskatchewan', 'NN'), ('Canada', 'NN'), ('28', 'NN'), ('and', 'NN'), ('Errol', 'NN'), ('Musk', 'NN'), ('a', 'NN'), ('South', 'NN'), ('African', 'NN'), ('electromechanical', 'NN'), ('engineer', 'NN'), ('pilot', 'NN'), ('and', 'NN'), ('sailor', 'NN')] \n",
      "\n",
      "\n",
      " [('He', 'NN'), ('has', 'NN'), ('a', 'NN'), ('younger', 'NN'), ('brother', 'NN'), ('Kimbal', 'NN'), ('born', 'NN'), ('1972', 'NN'), ('and', 'NN'), ('a', 'NN'), ('younger', 'NN'), ('sister', 'NN'), ('Tosca', 'NN'), ('born', 'NN'), ('1974', 'NN')] \n",
      "\n",
      "\n",
      " [('28', 'NN'), ('29', 'NN'), ('30', 'NN'), ('31', 'NN'), ('His', 'NN'), ('paternal', 'NN'), ('grandmother', 'NN'), ('was', 'NN'), ('British', 'NN'), ('and', 'NN'), ('he', 'NN'), ('also', 'NN'), ('has', 'NN'), ('Pennsylvania', 'NN'), ('Dutch', 'NN'), ('ancestry', 'NN'), ('32', 'NN'), ('33', 'NN'), ('and', 'NN'), ('his', 'NN'), ('maternal', 'NN'), ('grandfather', 'NN'), ('was', 'NN'), ('American', 'NN'), ('from', 'NN'), ('Minnesota', 'NN')] \n",
      "\n",
      "\n",
      " [('34', 'NN'), ('After', 'NN'), ('his', 'NN'), ('parents', 'NN'), ('divorced', 'NN'), ('in', 'NN'), ('1980', 'NN'), ('Musk', 'NN'), ('lived', 'NN'), ('mostly', 'NN'), ('with', 'NN'), ('his', 'NN'), ('father', 'NN'), ('in', 'NN'), ('the', 'NN'), ('suburbs', 'NN'), ('of', 'NN'), ('Pretoria', 'NN')] \n",
      "\n",
      "\n",
      " [('32', 'NN'), ('During', 'NN'), ('his', 'NN'), ('childhood', 'NN'), ('he', 'NN'), ('had', 'NN'), ('an', 'NN'), ('interest', 'NN'), ('in', 'NN'), ('reading', 'NN'), ('and', 'NN'), ('often', 'NN'), ('did', 'NN'), ('so', 'NN'), ('for', 'NN'), ('hours', 'NN'), ('at', 'NN'), ('a', 'NN'), ('time', 'NN')] \n",
      "\n",
      "\n",
      " [('35', 'NN'), ('At', 'NN'), ('What', 'NN'), ('age', 'NN'), ('did', 'NN'), ('Musk', 'NN'), ('got', 'NN'), ('interested', 'NN'), ('in', 'NN'), ('computing', 'NN')] \n",
      "\n",
      "\n",
      " [('At', 'NN'), ('age', 'NN'), ('10', 'NN'), ('he', 'NN'), ('developed', 'NN'), ('an', 'NN'), ('interest', 'NN'), ('in', 'NN'), ('computing', 'NN'), ('with', 'NN'), ('the', 'NN'), ('Commodore', 'NN'), ('VIC', 'NN'), ('20', 'NN')] \n",
      "\n",
      "\n",
      " [('36', 'NN'), ('He', 'NN'), ('taught', 'NN'), ('himself', 'NN'), ('computer', 'NN'), ('programming', 'NN'), ('at', 'NN'), ('the', 'NN'), ('age', 'NN'), ('of', 'NN'), ('12', 'NN'), ('sold', 'NN'), ('the', 'NN'), ('code', 'NN'), ('for', 'NN'), ('a', 'NN'), ('BASIC', 'NN'), ('based', 'NN'), ('video', 'NN'), ('game', 'NN'), ('he', 'NN'), ('created', 'NN'), ('called', 'NN'), ('Blastar', 'NN'), ('to', 'NN'), ('a', 'NN'), ('magazine', 'NN'), ('called', 'NN'), ('PC', 'NN'), ('and', 'NN'), ('Office', 'NN'), ('Technology', 'NN'), ('for', 'NN'), ('approximately', 'NN'), ('500', 'NN')] \n",
      "\n",
      "\n",
      " [('37', 'NN'), ('38', 'NN'), ('A', 'NN'), ('web', 'NN'), ('version', 'NN'), ('of', 'NN'), ('the', 'NN'), ('game', 'NN'), ('is', 'NN'), ('available', 'NN'), ('online', 'NN')] \n",
      "\n",
      "\n",
      " [('37', 'NN'), ('39', 'NN'), ('Musk', 'NN'), ('was', 'NN'), ('severely', 'NN'), ('bullied', 'NN'), ('throughout', 'NN'), ('his', 'NN'), ('childhood', 'NN'), ('and', 'NN'), ('was', 'NN'), ('once', 'NN'), ('hospitalized', 'NN'), ('when', 'NN'), ('a', 'NN'), ('group', 'NN'), ('of', 'NN'), ('boys', 'NN'), ('threw', 'NN'), ('him', 'NN'), ('down', 'NN'), ('a', 'NN'), ('flight', 'NN'), ('of', 'NN'), ('stairs', 'NN'), ('and', 'NN'), ('then', 'NN'), ('beat', 'NN'), ('him', 'NN'), ('until', 'NN'), ('he', 'NN'), ('lost', 'NN'), ('consciousness', 'NN')] \n",
      "\n",
      "\n",
      " [('40', 'NN'), ('Musk', 'NN'), ('was', 'NN'), ('initially', 'NN'), ('educated', 'NN'), ('at', 'NN'), ('private', 'NN'), ('schools', 'NN'), ('attending', 'NN'), ('the', 'NN'), ('English', 'NN'), ('speaking', 'NN'), ('Waterkloof', 'NN'), ('House', 'NN'), ('Preparatory', 'NN'), ('School', 'NN')] \n",
      "\n",
      "\n",
      " [('Mr', 'NN'), ('Singh', 'NN'), ('helped', 'NN'), ('Musk', 'NN'), ('during', 'NN'), ('his', 'NN'), ('initial', 'NN'), ('days', 'NN'), ('when', 'NN'), ('he', 'NN'), ('was', 'NN'), ('severely', 'NN'), ('bullied', 'NN'), ('during', 'NN'), ('his', 'NN'), ('childhood', 'NN')] \n",
      "\n",
      "\n",
      " [('Musk', 'NN'), ('later', 'NN'), ('graduated', 'NN'), ('from', 'NN'), ('Pretoria', 'NN'), ('Boys', 'NN'), ('High', 'NN'), ('School', 'NN'), ('and', 'NN'), ('moved', 'NN'), ('to', 'NN'), ('Canada', 'NN'), ('in', 'NN'), ('June', 'NN'), ('1989', 'NN'), ('just', 'NN'), ('before', 'NN'), ('his', 'NN'), ('18th', 'NN'), ('birthday', 'NN'), ('41', 'NN'), ('after', 'NN'), ('obtaining', 'NN'), ('Canadian', 'NN'), ('citizenship', 'NN'), ('through', 'NN'), ('his', 'NN'), ('Canadian', 'NN'), ('born', 'NN'), ('mother', 'NN')] \n",
      "\n",
      "\n",
      " [('42', 'NN'), ('43', 'NN'), ('Although', 'NN'), ('at', 'NN'), ('the', 'NN'), ('time', 'NN'), ('Musk', 'NN'), ('had', 'NN'), ('to', 'NN'), ('register', 'NN'), ('to', 'NN'), ('become', 'NN'), ('a', 'NN'), ('Canadian', 'NN'), ('citizen', 'NN'), ('Bill', 'NN'), ('C', 'NN'), ('37', 'NN'), ('which', 'NN'), ('came', 'NN'), ('into', 'NN'), ('law', 'NN'), ('in', 'NN'), ('April', 'NN'), ('of', 'NN'), ('2009', 'NN'), ('effectively', 'NN'), ('made', 'NN'), ('his', 'NN'), ('Canadian', 'NN'), ('citizenship', 'NN'), ('retroactive', 'NN'), ('to', 'NN'), ('his', 'NN'), ('birth', 'NN'), ('since', 'NN'), ('he', 'NN'), ('was', 'NN'), ('born', 'NN'), ('in', 'NN'), ('the', 'NN'), ('first', 'NN'), ('generation', 'NN'), ('abroad', 'NN'), ('to', 'NN'), ('a', 'NN'), ('Canadian', 'NN'), ('born', 'NN'), ('mother', 'NN')] \n",
      "\n",
      "\n",
      " [('Therefore', 'NN'), ('with', 'NN'), ('the', 'NN'), ('law', 'NN'), ('change', 'NN'), ('he', 'NN'), ('is', 'NN'), ('considered', 'NN'), ('to', 'NN'), ('have', 'NN'), ('always', 'NN'), ('been', 'NN'), ('a', 'NN'), ('Canadian', 'NN'), ('citizen', 'NN'), ('by', 'NN'), ('birth', 'NN')] \n",
      "\n"
     ]
    }
   ],
   "source": [
    "for word in tokens:\n",
    "    pattern = RegexpTokenizer(r'\\w+')\n",
    "    word = pattern.tokenize(word)\n",
    "    \n",
    "    # Setting Tags\n",
    "    set_new_tag = nltk.DefaultTagger(top_1[0][0])\n",
    "    tagged = set_new_tag.tag(word)\n",
    "    \n",
    "    print(\"\\n\", tagged, \"\\n\")"
   ]
  },
  {
   "cell_type": "markdown",
   "metadata": {},
   "source": [
    "### Part - 2\n",
    "\n",
    "Create your own Tagger using the following rules\n",
    "\n",
    "Let's try to understand some **Parts Of Speech**\n",
    "\n",
    "1. **Possesion Noun (NN\\$)** - any word which ends with **'s** \n",
    "    > ***Jennifer’s*** new handbag matches her shoes perfectly\n",
    "2. **Gerund (VBG)** - any word which ends with **ing** \n",
    "    > ***Swimming*** in the ocean has been Sharon’s passion since she was five years old.\n",
    "3. **Simple Past (VBD)** - any word which ends with **ed**\n",
    "    > We ***crossed*** the Channel yesterday.\n",
    "4. **Modal (MD)** - any word which ends with **ould**\n",
    "    > He **should** not be late\n",
    "5. **Third Singular Present (VBZ)** - any word which ends with **es**     \n",
    "    > He **misses** her so much\n",
    "6. **Numbers (CD)** - any number integer or decimal\n",
    "    > 24.90\n",
    "7. **Plural Nouns (NNS)** - any word ending with **s**\n",
    "    > You stole my **ideas** and didn’t give me any credit."
   ]
  },
  {
   "cell_type": "code",
   "execution_count": 127,
   "metadata": {
    "collapsed": true
   },
   "outputs": [],
   "source": [
    "# Setting custom Regex Patterns -\n",
    "patterns = [(r'\\b\\w+\\'s\\b', 'NN$'), \n",
    "            (r'\\b\\w+ing\\b', 'VBG'), \n",
    "            (r'\\b\\w+ed\\b', 'VBD'), \n",
    "            (r'\\b\\w+ould\\b', 'MD'), \n",
    "            (r'\\b\\w+es\\b', 'VBZ'), \n",
    "            (r'\\b\\d+\\b', 'CD'), \n",
    "            (r'\\b\\w+s\\b', 'NNS')]"
   ]
  },
  {
   "cell_type": "code",
   "execution_count": 128,
   "metadata": {},
   "outputs": [
    {
     "name": "stdout",
     "output_type": "stream",
     "text": [
      "[('Musk', None), ('was', 'NNS'), ('born', None), ('on', None), ('June', None), ('28', 'CD'), ('1971', 'CD'), ('in', None), ('Pretoria', None), ('Gauteng', None), ('South', None), ('Africa', None), ('27', 'CD'), ('the', None), ('son', None), ('of', None), ('Maye', None), ('Musk', None), ('née', None), ('Haldeman', None), ('a', None), ('model', None), ('and', None), ('dietician', None), ('from', None), ('Regina', None), ('Saskatchewan', None), ('Canada', None), ('28', 'CD'), ('and', None), ('Errol', None), ('Musk', None), ('a', None), ('South', None), ('African', None), ('electromechanical', None), ('engineer', None), ('pilot', None), ('and', None), ('sailor', None)] \n",
      "\n",
      "[('He', None), ('has', 'NNS'), ('a', None), ('younger', None), ('brother', None), ('Kimbal', None), ('born', None), ('1972', 'CD'), ('and', None), ('a', None), ('younger', None), ('sister', None), ('Tosca', None), ('born', None), ('1974', 'CD')] \n",
      "\n",
      "[('28', 'CD'), ('29', 'CD'), ('30', 'CD'), ('31', 'CD'), ('His', 'NNS'), ('paternal', None), ('grandmother', None), ('was', 'NNS'), ('British', None), ('and', None), ('he', None), ('also', None), ('has', 'NNS'), ('Pennsylvania', None), ('Dutch', None), ('ancestry', None), ('32', 'CD'), ('33', 'CD'), ('and', None), ('his', 'NNS'), ('maternal', None), ('grandfather', None), ('was', 'NNS'), ('American', None), ('from', None), ('Minnesota', None)] \n",
      "\n",
      "[('34', 'CD'), ('After', None), ('his', 'NNS'), ('parents', 'NNS'), ('divorced', 'VBD'), ('in', None), ('1980', 'CD'), ('Musk', None), ('lived', 'VBD'), ('mostly', None), ('with', None), ('his', 'NNS'), ('father', None), ('in', None), ('the', None), ('suburbs', 'NNS'), ('of', None), ('Pretoria', None)] \n",
      "\n",
      "[('32', 'CD'), ('During', 'VBG'), ('his', 'NNS'), ('childhood', None), ('he', None), ('had', None), ('an', None), ('interest', None), ('in', None), ('reading', 'VBG'), ('and', None), ('often', None), ('did', None), ('so', None), ('for', None), ('hours', 'NNS'), ('at', None), ('a', None), ('time', None)] \n",
      "\n",
      "[('35', 'CD'), ('At', None), ('What', None), ('age', None), ('did', None), ('Musk', None), ('got', None), ('interested', 'VBD'), ('in', None), ('computing', 'VBG')] \n",
      "\n",
      "[('At', None), ('age', None), ('10', 'CD'), ('he', None), ('developed', 'VBD'), ('an', None), ('interest', None), ('in', None), ('computing', 'VBG'), ('with', None), ('the', None), ('Commodore', None), ('VIC', None), ('20', 'CD')] \n",
      "\n",
      "[('36', 'CD'), ('He', None), ('taught', None), ('himself', None), ('computer', None), ('programming', 'VBG'), ('at', None), ('the', None), ('age', None), ('of', None), ('12', 'CD'), ('sold', None), ('the', None), ('code', None), ('for', None), ('a', None), ('BASIC', None), ('based', 'VBD'), ('video', None), ('game', None), ('he', None), ('created', 'VBD'), ('called', 'VBD'), ('Blastar', None), ('to', None), ('a', None), ('magazine', None), ('called', 'VBD'), ('PC', None), ('and', None), ('Office', None), ('Technology', None), ('for', None), ('approximately', None), ('500', 'CD')] \n",
      "\n",
      "[('37', 'CD'), ('38', 'CD'), ('A', None), ('web', None), ('version', None), ('of', None), ('the', None), ('game', None), ('is', 'NNS'), ('available', None), ('online', None)] \n",
      "\n",
      "[('37', 'CD'), ('39', 'CD'), ('Musk', None), ('was', 'NNS'), ('severely', None), ('bullied', 'VBD'), ('throughout', None), ('his', 'NNS'), ('childhood', None), ('and', None), ('was', 'NNS'), ('once', None), ('hospitalized', 'VBD'), ('when', None), ('a', None), ('group', None), ('of', None), ('boys', 'NNS'), ('threw', None), ('him', None), ('down', None), ('a', None), ('flight', None), ('of', None), ('stairs', 'NNS'), ('and', None), ('then', None), ('beat', None), ('him', None), ('until', None), ('he', None), ('lost', None), ('consciousness', 'NNS')] \n",
      "\n",
      "[('40', 'CD'), ('Musk', None), ('was', 'NNS'), ('initially', None), ('educated', 'VBD'), ('at', None), ('private', None), ('schools', 'NNS'), ('attending', 'VBG'), ('the', None), ('English', None), ('speaking', 'VBG'), ('Waterkloof', None), ('House', None), ('Preparatory', None), ('School', None)] \n",
      "\n",
      "[('Mr', None), ('Singh', None), ('helped', 'VBD'), ('Musk', None), ('during', 'VBG'), ('his', 'NNS'), ('initial', None), ('days', 'NNS'), ('when', None), ('he', None), ('was', 'NNS'), ('severely', None), ('bullied', 'VBD'), ('during', 'VBG'), ('his', 'NNS'), ('childhood', None)] \n",
      "\n",
      "[('Musk', None), ('later', None), ('graduated', 'VBD'), ('from', None), ('Pretoria', None), ('Boys', 'NNS'), ('High', None), ('School', None), ('and', None), ('moved', 'VBD'), ('to', None), ('Canada', None), ('in', None), ('June', None), ('1989', 'CD'), ('just', None), ('before', None), ('his', 'NNS'), ('18th', None), ('birthday', None), ('41', 'CD'), ('after', None), ('obtaining', 'VBG'), ('Canadian', None), ('citizenship', None), ('through', None), ('his', 'NNS'), ('Canadian', None), ('born', None), ('mother', None)] \n",
      "\n",
      "[('42', 'CD'), ('43', 'CD'), ('Although', None), ('at', None), ('the', None), ('time', None), ('Musk', None), ('had', None), ('to', None), ('register', None), ('to', None), ('become', None), ('a', None), ('Canadian', None), ('citizen', None), ('Bill', None), ('C', None), ('37', 'CD'), ('which', None), ('came', None), ('into', None), ('law', None), ('in', None), ('April', None), ('of', None), ('2009', 'CD'), ('effectively', None), ('made', None), ('his', 'NNS'), ('Canadian', None), ('citizenship', None), ('retroactive', None), ('to', None), ('his', 'NNS'), ('birth', None), ('since', None), ('he', None), ('was', 'NNS'), ('born', None), ('in', None), ('the', None), ('first', None), ('generation', None), ('abroad', None), ('to', None), ('a', None), ('Canadian', None), ('born', None), ('mother', None)] \n",
      "\n",
      "[('Therefore', None), ('with', None), ('the', None), ('law', None), ('change', None), ('he', None), ('is', 'NNS'), ('considered', 'VBD'), ('to', None), ('have', None), ('always', 'NNS'), ('been', None), ('a', None), ('Canadian', None), ('citizen', None), ('by', None), ('birth', None)] \n",
      "\n"
     ]
    }
   ],
   "source": [
    "# Setting custom TAG for rule-set -\n",
    "\n",
    "for word in tokens:\n",
    "    pattern = RegexpTokenizer(r'\\w+')\n",
    "    word = pattern.tokenize(word)\n",
    "    \n",
    "    # Using Regex to set tags\n",
    "    regexp_set_tag = nltk.RegexpTagger(patterns)\n",
    "    regex_tagged = regexp_set_tag.tag(word)\n",
    "\n",
    "    print(regex_tagged, \"\\n\")"
   ]
  },
  {
   "cell_type": "code",
   "execution_count": null,
   "metadata": {
    "collapsed": true
   },
   "outputs": [],
   "source": []
  }
 ],
 "metadata": {
  "kernelspec": {
   "display_name": "Python 3",
   "language": "python",
   "name": "python3"
  },
  "language_info": {
   "codemirror_mode": {
    "name": "ipython",
    "version": 3
   },
   "file_extension": ".py",
   "mimetype": "text/x-python",
   "name": "python",
   "nbconvert_exporter": "python",
   "pygments_lexer": "ipython3",
   "version": "3.6.0"
  }
 },
 "nbformat": 4,
 "nbformat_minor": 2
}
